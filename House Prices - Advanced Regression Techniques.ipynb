{
 "cells": [
  {
   "cell_type": "markdown",
   "id": "3b08baee",
   "metadata": {},
   "source": [
    "# House Prices - Advanced Regression Techniques\n",
    "соревнование на Kaggle"
   ]
  },
  {
   "cell_type": "code",
   "execution_count": 91,
   "id": "49e417ed",
   "metadata": {},
   "outputs": [],
   "source": [
    "from sklearn import tree\n",
    "import pandas as pd\n",
    "import numpy as np\n",
    "import matplotlib.pyplot as plt\n",
    "import seaborn as sns\n",
    "%matplotlib inline\n",
    "\n",
    "from IPython.display import SVG\n",
    "from graphviz import Source\n",
    "from IPython.display import display\n",
    "\n",
    "from sklearn.ensemble import RandomForestClassifier\n",
    "from sklearn.model_selection import GridSearchCV\n",
    "from sklearn.neighbors import KNeighborsRegressor\n",
    "import scipy.stats\n",
    "from sklearn.preprocessing import StandardScaler\n",
    "from sklearn.model_selection import KFold, cross_val_score\n",
    "from sklearn.metrics import mean_squared_error\n",
    "\n",
    "from sklearn.linear_model import BayesianRidge, HuberRegressor, Ridge, OrthogonalMatchingPursuit\n",
    "from sklearn.ensemble import GradientBoostingRegressor\n",
    "from catboost import CatBoostRegressor\n",
    "\n"
   ]
  },
  {
   "cell_type": "code",
   "execution_count": 2,
   "id": "8612b50f",
   "metadata": {},
   "outputs": [
    {
     "name": "stdout",
     "output_type": "stream",
     "text": [
      "Requirement already satisfied: pycaret in c:\\users\\keybi\\appdata\\roaming\\python\\python39\\site-packages (2.2.2)\n",
      "Requirement already satisfied: lightgbm>=2.3.1 in c:\\users\\keybi\\appdata\\roaming\\python\\python39\\site-packages (from pycaret) (3.3.3)\n",
      "Requirement already satisfied: scikit-learn>=0.23.2 in d:\\program files\\anaconda\\lib\\site-packages (from pycaret) (1.1.3)\n",
      "Requirement already satisfied: ipywidgets in d:\\program files\\anaconda\\lib\\site-packages (from pycaret) (7.6.5)\n",
      "Requirement already satisfied: cufflinks>=0.17.0 in c:\\users\\keybi\\appdata\\roaming\\python\\python39\\site-packages (from pycaret) (0.17.3)\n",
      "Requirement already satisfied: umap-learn in c:\\users\\keybi\\appdata\\roaming\\python\\python39\\site-packages (from pycaret) (0.5.3)\n",
      "Requirement already satisfied: gensim in d:\\program files\\anaconda\\lib\\site-packages (from pycaret) (4.1.2)\n",
      "Requirement already satisfied: mlxtend in c:\\users\\keybi\\appdata\\roaming\\python\\python39\\site-packages (from pycaret) (0.21.0)\n",
      "Requirement already satisfied: matplotlib in d:\\program files\\anaconda\\lib\\site-packages (from pycaret) (3.5.1)\n",
      "Requirement already satisfied: numpy>=1.17 in d:\\program files\\anaconda\\lib\\site-packages (from pycaret) (1.21.5)\n",
      "Requirement already satisfied: IPython in d:\\program files\\anaconda\\lib\\site-packages (from pycaret) (8.2.0)\n",
      "Requirement already satisfied: wordcloud in c:\\users\\keybi\\appdata\\roaming\\python\\python39\\site-packages (from pycaret) (1.8.2.2)\n",
      "Requirement already satisfied: xgboost>=1.1.0 in c:\\users\\keybi\\appdata\\roaming\\python\\python39\\site-packages (from pycaret) (1.6.2)\n",
      "Requirement already satisfied: pyod in c:\\users\\keybi\\appdata\\roaming\\python\\python39\\site-packages (from pycaret) (1.0.6)\n",
      "Requirement already satisfied: scikit-plot in c:\\users\\keybi\\appdata\\roaming\\python\\python39\\site-packages (from pycaret) (0.3.7)\n",
      "Requirement already satisfied: kmodes>=0.10.1 in c:\\users\\keybi\\appdata\\roaming\\python\\python39\\site-packages (from pycaret) (0.12.2)\n",
      "Requirement already satisfied: seaborn in d:\\program files\\anaconda\\lib\\site-packages (from pycaret) (0.11.2)\n",
      "Requirement already satisfied: textblob in c:\\users\\keybi\\appdata\\roaming\\python\\python39\\site-packages (from pycaret) (0.17.1)\n",
      "Requirement already satisfied: imbalanced-learn>=0.7.0 in c:\\users\\keybi\\appdata\\roaming\\python\\python39\\site-packages (from pycaret) (0.9.1)\n",
      "Requirement already satisfied: pandas in d:\\program files\\anaconda\\lib\\site-packages (from pycaret) (1.4.2)\n",
      "Requirement already satisfied: joblib in d:\\program files\\anaconda\\lib\\site-packages (from pycaret) (1.1.0)\n",
      "Requirement already satisfied: pandas-profiling>=2.8.0 in c:\\users\\keybi\\appdata\\roaming\\python\\python39\\site-packages (from pycaret) (3.4.0)\n",
      "Requirement already satisfied: spacy in c:\\users\\keybi\\appdata\\roaming\\python\\python39\\site-packages (from pycaret) (3.4.2)\n",
      "Requirement already satisfied: pyLDAvis in c:\\users\\keybi\\appdata\\roaming\\python\\python39\\site-packages (from pycaret) (3.3.1)\n",
      "Requirement already satisfied: catboost>=0.23.2 in c:\\users\\keybi\\appdata\\roaming\\python\\python39\\site-packages (from pycaret) (1.1)\n",
      "Requirement already satisfied: mlflow in c:\\users\\keybi\\appdata\\roaming\\python\\python39\\site-packages (from pycaret) (1.30.0)\n",
      "Requirement already satisfied: nltk in d:\\program files\\anaconda\\lib\\site-packages (from pycaret) (3.7)\n",
      "Requirement already satisfied: plotly>=4.4.1 in d:\\program files\\anaconda\\lib\\site-packages (from pycaret) (5.6.0)\n",
      "Requirement already satisfied: yellowbrick>=1.0.1 in c:\\users\\keybi\\appdata\\roaming\\python\\python39\\site-packages (from pycaret) (1.5)\n",
      "Requirement already satisfied: six in d:\\program files\\anaconda\\lib\\site-packages (from catboost>=0.23.2->pycaret) (1.16.0)\n",
      "Requirement already satisfied: scipy in d:\\program files\\anaconda\\lib\\site-packages (from catboost>=0.23.2->pycaret) (1.7.3)\n",
      "Requirement already satisfied: graphviz in d:\\program files\\anaconda\\lib\\site-packages (from catboost>=0.23.2->pycaret) (0.20.1)\n",
      "Requirement already satisfied: colorlover>=0.2.1 in c:\\users\\keybi\\appdata\\roaming\\python\\python39\\site-packages (from cufflinks>=0.17.0->pycaret) (0.3.0)\n",
      "Requirement already satisfied: setuptools>=34.4.1 in d:\\program files\\anaconda\\lib\\site-packages (from cufflinks>=0.17.0->pycaret) (61.2.0)\n",
      "Requirement already satisfied: threadpoolctl>=2.0.0 in d:\\program files\\anaconda\\lib\\site-packages (from imbalanced-learn>=0.7.0->pycaret) (2.2.0)\n",
      "Requirement already satisfied: pygments>=2.4.0 in d:\\program files\\anaconda\\lib\\site-packages (from IPython->pycaret) (2.11.2)\n",
      "Requirement already satisfied: traitlets>=5 in d:\\program files\\anaconda\\lib\\site-packages (from IPython->pycaret) (5.1.1)\n",
      "Requirement already satisfied: pickleshare in d:\\program files\\anaconda\\lib\\site-packages (from IPython->pycaret) (0.7.5)\n",
      "Requirement already satisfied: backcall in d:\\program files\\anaconda\\lib\\site-packages (from IPython->pycaret) (0.2.0)\n",
      "Requirement already satisfied: prompt-toolkit!=3.0.0,!=3.0.1,<3.1.0,>=2.0.0 in d:\\program files\\anaconda\\lib\\site-packages (from IPython->pycaret) (3.0.20)\n",
      "Requirement already satisfied: decorator in d:\\program files\\anaconda\\lib\\site-packages (from IPython->pycaret) (5.1.1)\n",
      "Requirement already satisfied: matplotlib-inline in d:\\program files\\anaconda\\lib\\site-packages (from IPython->pycaret) (0.1.2)\n",
      "Requirement already satisfied: colorama in d:\\program files\\anaconda\\lib\\site-packages (from IPython->pycaret) (0.4.4)\n",
      "Requirement already satisfied: stack-data in d:\\program files\\anaconda\\lib\\site-packages (from IPython->pycaret) (0.2.0)\n",
      "Requirement already satisfied: jedi>=0.16 in d:\\program files\\anaconda\\lib\\site-packages (from IPython->pycaret) (0.18.1)\n",
      "Requirement already satisfied: ipython-genutils~=0.2.0 in d:\\program files\\anaconda\\lib\\site-packages (from ipywidgets->pycaret) (0.2.0)\n",
      "Requirement already satisfied: widgetsnbextension~=3.5.0 in d:\\program files\\anaconda\\lib\\site-packages (from ipywidgets->pycaret) (3.5.2)\n",
      "Requirement already satisfied: ipykernel>=4.5.1 in d:\\program files\\anaconda\\lib\\site-packages (from ipywidgets->pycaret) (6.9.1)\n",
      "Requirement already satisfied: jupyterlab-widgets>=1.0.0 in d:\\program files\\anaconda\\lib\\site-packages (from ipywidgets->pycaret) (1.0.0)\n",
      "Requirement already satisfied: nbformat>=4.2.0 in d:\\program files\\anaconda\\lib\\site-packages (from ipywidgets->pycaret) (5.3.0)\n",
      "Requirement already satisfied: tornado<7.0,>=4.2 in d:\\program files\\anaconda\\lib\\site-packages (from ipykernel>=4.5.1->ipywidgets->pycaret) (6.1)\n",
      "Requirement already satisfied: debugpy<2.0,>=1.0.0 in d:\\program files\\anaconda\\lib\\site-packages (from ipykernel>=4.5.1->ipywidgets->pycaret) (1.5.1)\n",
      "Requirement already satisfied: nest-asyncio in d:\\program files\\anaconda\\lib\\site-packages (from ipykernel>=4.5.1->ipywidgets->pycaret) (1.5.5)\n",
      "Requirement already satisfied: jupyter-client<8.0 in d:\\program files\\anaconda\\lib\\site-packages (from ipykernel>=4.5.1->ipywidgets->pycaret) (6.1.12)\n",
      "Requirement already satisfied: parso<0.9.0,>=0.8.0 in d:\\program files\\anaconda\\lib\\site-packages (from jedi>=0.16->IPython->pycaret) (0.8.3)\n",
      "Requirement already satisfied: python-dateutil>=2.1 in d:\\program files\\anaconda\\lib\\site-packages (from jupyter-client<8.0->ipykernel>=4.5.1->ipywidgets->pycaret) (2.8.2)\n",
      "Requirement already satisfied: jupyter-core>=4.6.0 in d:\\program files\\anaconda\\lib\\site-packages (from jupyter-client<8.0->ipykernel>=4.5.1->ipywidgets->pycaret) (4.9.2)\n",
      "Requirement already satisfied: pyzmq>=13 in d:\\program files\\anaconda\\lib\\site-packages (from jupyter-client<8.0->ipykernel>=4.5.1->ipywidgets->pycaret) (22.3.0)\n",
      "Requirement already satisfied: pywin32>=1.0 in c:\\users\\keybi\\appdata\\roaming\\python\\python39\\site-packages (from jupyter-core>=4.6.0->jupyter-client<8.0->ipykernel>=4.5.1->ipywidgets->pycaret) (304)\n",
      "Requirement already satisfied: wheel in d:\\program files\\anaconda\\lib\\site-packages (from lightgbm>=2.3.1->pycaret) (0.37.1)\n",
      "Requirement already satisfied: jsonschema>=2.6 in d:\\program files\\anaconda\\lib\\site-packages (from nbformat>=4.2.0->ipywidgets->pycaret) (4.4.0)\n",
      "Requirement already satisfied: fastjsonschema in d:\\program files\\anaconda\\lib\\site-packages (from nbformat>=4.2.0->ipywidgets->pycaret) (2.15.1)\n",
      "Requirement already satisfied: attrs>=17.4.0 in d:\\program files\\anaconda\\lib\\site-packages (from jsonschema>=2.6->nbformat>=4.2.0->ipywidgets->pycaret) (21.4.0)\n",
      "Requirement already satisfied: pyrsistent!=0.17.0,!=0.17.1,!=0.17.2,>=0.14.0 in d:\\program files\\anaconda\\lib\\site-packages (from jsonschema>=2.6->nbformat>=4.2.0->ipywidgets->pycaret) (0.18.0)\n",
      "Requirement already satisfied: pytz>=2020.1 in d:\\program files\\anaconda\\lib\\site-packages (from pandas->pycaret) (2021.3)\n",
      "Requirement already satisfied: htmlmin==0.1.12 in c:\\users\\keybi\\appdata\\roaming\\python\\python39\\site-packages (from pandas-profiling>=2.8.0->pycaret) (0.1.12)\n",
      "Requirement already satisfied: multimethod<1.10,>=1.4 in c:\\users\\keybi\\appdata\\roaming\\python\\python39\\site-packages (from pandas-profiling>=2.8.0->pycaret) (1.9)\n",
      "Requirement already satisfied: visions[type_image_path]==0.7.5 in c:\\users\\keybi\\appdata\\roaming\\python\\python39\\site-packages (from pandas-profiling>=2.8.0->pycaret) (0.7.5)\n",
      "Requirement already satisfied: requests<2.29,>=2.24.0 in d:\\program files\\anaconda\\lib\\site-packages (from pandas-profiling>=2.8.0->pycaret) (2.27.1)\n",
      "Requirement already satisfied: phik<0.13,>=0.11.1 in c:\\users\\keybi\\appdata\\roaming\\python\\python39\\site-packages (from pandas-profiling>=2.8.0->pycaret) (0.12.2)\n",
      "Requirement already satisfied: statsmodels<0.14,>=0.13.2 in d:\\program files\\anaconda\\lib\\site-packages (from pandas-profiling>=2.8.0->pycaret) (0.13.2)\n",
      "Requirement already satisfied: PyYAML<6.1,>=5.0.0 in c:\\users\\keybi\\appdata\\roaming\\python\\python39\\site-packages (from pandas-profiling>=2.8.0->pycaret) (5.4.1)\n",
      "Requirement already satisfied: pydantic<1.11,>=1.8.1 in c:\\users\\keybi\\appdata\\roaming\\python\\python39\\site-packages (from pandas-profiling>=2.8.0->pycaret) (1.10.2)\n",
      "Requirement already satisfied: missingno<0.6,>=0.4.2 in c:\\users\\keybi\\appdata\\roaming\\python\\python39\\site-packages (from pandas-profiling>=2.8.0->pycaret) (0.5.1)Note: you may need to restart the kernel to use updated packages.\n",
      "Requirement already satisfied: tqdm<4.65,>=4.48.2 in d:\\program files\\anaconda\\lib\\site-packages (from pandas-profiling>=2.8.0->pycaret) (4.64.0)\n",
      "\n",
      "Requirement already satisfied: jinja2<3.2,>=2.11.1 in d:\\program files\\anaconda\\lib\\site-packages (from pandas-profiling>=2.8.0->pycaret) (2.11.3)\n",
      "Requirement already satisfied: tangled-up-in-unicode>=0.0.4 in c:\\users\\keybi\\appdata\\roaming\\python\\python39\\site-packages (from visions[type_image_path]==0.7.5->pandas-profiling>=2.8.0->pycaret) (0.2.0)\n",
      "Requirement already satisfied: networkx>=2.4 in d:\\program files\\anaconda\\lib\\site-packages (from visions[type_image_path]==0.7.5->pandas-profiling>=2.8.0->pycaret) (2.7.1)\n",
      "Requirement already satisfied: Pillow in d:\\program files\\anaconda\\lib\\site-packages (from visions[type_image_path]==0.7.5->pandas-profiling>=2.8.0->pycaret) (9.0.1)\n",
      "Requirement already satisfied: imagehash in c:\\users\\keybi\\appdata\\roaming\\python\\python39\\site-packages (from visions[type_image_path]==0.7.5->pandas-profiling>=2.8.0->pycaret) (4.3.1)\n",
      "Requirement already satisfied: MarkupSafe>=0.23 in d:\\program files\\anaconda\\lib\\site-packages (from jinja2<3.2,>=2.11.1->pandas-profiling>=2.8.0->pycaret) (2.0.1)\n",
      "Requirement already satisfied: cycler>=0.10 in d:\\program files\\anaconda\\lib\\site-packages (from matplotlib->pycaret) (0.11.0)\n",
      "Requirement already satisfied: pyparsing>=2.2.1 in d:\\program files\\anaconda\\lib\\site-packages (from matplotlib->pycaret) (3.0.4)\n",
      "Requirement already satisfied: fonttools>=4.22.0 in d:\\program files\\anaconda\\lib\\site-packages (from matplotlib->pycaret) (4.25.0)\n",
      "Requirement already satisfied: kiwisolver>=1.0.1 in d:\\program files\\anaconda\\lib\\site-packages (from matplotlib->pycaret) (1.3.2)\n",
      "Requirement already satisfied: packaging>=20.0 in d:\\program files\\anaconda\\lib\\site-packages (from matplotlib->pycaret) (21.3)\n",
      "Requirement already satisfied: tenacity>=6.2.0 in d:\\program files\\anaconda\\lib\\site-packages (from plotly>=4.4.1->pycaret) (8.0.1)\n",
      "Requirement already satisfied: wcwidth in d:\\program files\\anaconda\\lib\\site-packages (from prompt-toolkit!=3.0.0,!=3.0.1,<3.1.0,>=2.0.0->IPython->pycaret) (0.2.5)\n",
      "Requirement already satisfied: typing-extensions>=4.1.0 in d:\\program files\\anaconda\\lib\\site-packages (from pydantic<1.11,>=1.8.1->pandas-profiling>=2.8.0->pycaret) (4.1.1)\n",
      "Requirement already satisfied: certifi>=2017.4.17 in d:\\program files\\anaconda\\lib\\site-packages (from requests<2.29,>=2.24.0->pandas-profiling>=2.8.0->pycaret) (2021.10.8)\n",
      "Requirement already satisfied: idna<4,>=2.5 in d:\\program files\\anaconda\\lib\\site-packages (from requests<2.29,>=2.24.0->pandas-profiling>=2.8.0->pycaret) (3.3)\n",
      "Requirement already satisfied: urllib3<1.27,>=1.21.1 in d:\\program files\\anaconda\\lib\\site-packages (from requests<2.29,>=2.24.0->pandas-profiling>=2.8.0->pycaret) (1.26.9)\n",
      "Requirement already satisfied: charset-normalizer~=2.0.0 in d:\\program files\\anaconda\\lib\\site-packages (from requests<2.29,>=2.24.0->pandas-profiling>=2.8.0->pycaret) (2.0.4)\n",
      "Requirement already satisfied: patsy>=0.5.2 in d:\\program files\\anaconda\\lib\\site-packages (from statsmodels<0.14,>=0.13.2->pandas-profiling>=2.8.0->pycaret) (0.5.2)\n",
      "Requirement already satisfied: notebook>=4.4.1 in d:\\program files\\anaconda\\lib\\site-packages (from widgetsnbextension~=3.5.0->ipywidgets->pycaret) (6.4.8)\n",
      "Requirement already satisfied: terminado>=0.8.3 in d:\\program files\\anaconda\\lib\\site-packages (from notebook>=4.4.1->widgetsnbextension~=3.5.0->ipywidgets->pycaret) (0.13.1)\n",
      "Requirement already satisfied: nbconvert in d:\\program files\\anaconda\\lib\\site-packages (from notebook>=4.4.1->widgetsnbextension~=3.5.0->ipywidgets->pycaret) (6.4.4)\n",
      "Requirement already satisfied: prometheus-client in d:\\program files\\anaconda\\lib\\site-packages (from notebook>=4.4.1->widgetsnbextension~=3.5.0->ipywidgets->pycaret) (0.13.1)\n",
      "Requirement already satisfied: Send2Trash>=1.8.0 in d:\\program files\\anaconda\\lib\\site-packages (from notebook>=4.4.1->widgetsnbextension~=3.5.0->ipywidgets->pycaret) (1.8.0)\n",
      "Requirement already satisfied: argon2-cffi in d:\\program files\\anaconda\\lib\\site-packages (from notebook>=4.4.1->widgetsnbextension~=3.5.0->ipywidgets->pycaret) (21.3.0)\n",
      "Requirement already satisfied: pywinpty>=1.1.0 in d:\\program files\\anaconda\\lib\\site-packages (from terminado>=0.8.3->notebook>=4.4.1->widgetsnbextension~=3.5.0->ipywidgets->pycaret) (2.0.2)\n",
      "Requirement already satisfied: argon2-cffi-bindings in d:\\program files\\anaconda\\lib\\site-packages (from argon2-cffi->notebook>=4.4.1->widgetsnbextension~=3.5.0->ipywidgets->pycaret) (21.2.0)\n",
      "Requirement already satisfied: cffi>=1.0.1 in d:\\program files\\anaconda\\lib\\site-packages (from argon2-cffi-bindings->argon2-cffi->notebook>=4.4.1->widgetsnbextension~=3.5.0->ipywidgets->pycaret) (1.15.0)\n",
      "Requirement already satisfied: pycparser in d:\\program files\\anaconda\\lib\\site-packages (from cffi>=1.0.1->argon2-cffi-bindings->argon2-cffi->notebook>=4.4.1->widgetsnbextension~=3.5.0->ipywidgets->pycaret) (2.21)\n",
      "Requirement already satisfied: smart-open>=1.8.1 in c:\\users\\keybi\\appdata\\roaming\\python\\python39\\site-packages (from gensim->pycaret) (5.2.1)\n",
      "Requirement already satisfied: PyWavelets in d:\\program files\\anaconda\\lib\\site-packages (from imagehash->visions[type_image_path]==0.7.5->pandas-profiling>=2.8.0->pycaret) (1.3.0)\n",
      "Requirement already satisfied: docker<7,>=4.0.0 in c:\\users\\keybi\\appdata\\roaming\\python\\python39\\site-packages (from mlflow->pycaret) (6.0.0)\n",
      "Requirement already satisfied: sqlalchemy<2,>=1.4.0 in d:\\program files\\anaconda\\lib\\site-packages (from mlflow->pycaret) (1.4.32)\n",
      "Requirement already satisfied: importlib-metadata!=4.7.0,<6,>=3.7.0 in d:\\program files\\anaconda\\lib\\site-packages (from mlflow->pycaret) (4.11.3)\n",
      "Requirement already satisfied: waitress<3 in c:\\users\\keybi\\appdata\\roaming\\python\\python39\\site-packages (from mlflow->pycaret) (2.1.2)\n",
      "Requirement already satisfied: cloudpickle<3 in d:\\program files\\anaconda\\lib\\site-packages (from mlflow->pycaret) (2.0.0)\n",
      "Requirement already satisfied: entrypoints<1 in d:\\program files\\anaconda\\lib\\site-packages (from mlflow->pycaret) (0.4)\n",
      "Requirement already satisfied: Flask<3 in d:\\program files\\anaconda\\lib\\site-packages (from mlflow->pycaret) (1.1.2)\n",
      "Requirement already satisfied: querystring-parser<2 in c:\\users\\keybi\\appdata\\roaming\\python\\python39\\site-packages (from mlflow->pycaret) (1.2.4)\n",
      "Requirement already satisfied: prometheus-flask-exporter<1 in c:\\users\\keybi\\appdata\\roaming\\python\\python39\\site-packages (from mlflow->pycaret) (0.20.3)\n",
      "Requirement already satisfied: databricks-cli<1,>=0.8.7 in c:\\users\\keybi\\appdata\\roaming\\python\\python39\\site-packages (from mlflow->pycaret) (0.17.3)\n",
      "Requirement already satisfied: gitpython<4,>=2.1.0 in c:\\users\\keybi\\appdata\\roaming\\python\\python39\\site-packages (from mlflow->pycaret) (3.1.29)\n",
      "Requirement already satisfied: sqlparse<1,>=0.4.0 in c:\\users\\keybi\\appdata\\roaming\\python\\python39\\site-packages (from mlflow->pycaret) (0.4.3)\n",
      "Requirement already satisfied: click<9,>=7.0 in d:\\program files\\anaconda\\lib\\site-packages (from mlflow->pycaret) (8.0.4)\n",
      "Requirement already satisfied: protobuf<5,>=3.12.0 in d:\\program files\\anaconda\\lib\\site-packages (from mlflow->pycaret) (3.19.1)\n",
      "Requirement already satisfied: alembic<2 in c:\\users\\keybi\\appdata\\roaming\\python\\python39\\site-packages (from mlflow->pycaret) (1.8.1)\n",
      "Requirement already satisfied: Mako in c:\\users\\keybi\\appdata\\roaming\\python\\python39\\site-packages (from alembic<2->mlflow->pycaret) (1.2.3)\n",
      "Requirement already satisfied: tabulate>=0.7.7 in d:\\program files\\anaconda\\lib\\site-packages (from databricks-cli<1,>=0.8.7->mlflow->pycaret) (0.8.9)\n",
      "Requirement already satisfied: oauthlib>=3.1.0 in d:\\program files\\anaconda\\lib\\site-packages (from databricks-cli<1,>=0.8.7->mlflow->pycaret) (3.2.1)\n",
      "Requirement already satisfied: pyjwt>=1.7.0 in d:\\program files\\anaconda\\lib\\site-packages (from databricks-cli<1,>=0.8.7->mlflow->pycaret) (2.1.0)\n",
      "Requirement already satisfied: websocket-client>=0.32.0 in d:\\program files\\anaconda\\lib\\site-packages (from docker<7,>=4.0.0->mlflow->pycaret) (0.58.0)\n",
      "Requirement already satisfied: Werkzeug>=0.15 in d:\\program files\\anaconda\\lib\\site-packages (from Flask<3->mlflow->pycaret) (2.0.3)\n",
      "Requirement already satisfied: itsdangerous>=0.24 in d:\\program files\\anaconda\\lib\\site-packages (from Flask<3->mlflow->pycaret) (2.0.1)\n",
      "Requirement already satisfied: gitdb<5,>=4.0.1 in c:\\users\\keybi\\appdata\\roaming\\python\\python39\\site-packages (from gitpython<4,>=2.1.0->mlflow->pycaret) (4.0.9)\n",
      "Requirement already satisfied: smmap<6,>=3.0.1 in c:\\users\\keybi\\appdata\\roaming\\python\\python39\\site-packages (from gitdb<5,>=4.0.1->gitpython<4,>=2.1.0->mlflow->pycaret) (5.0.0)\n",
      "Requirement already satisfied: zipp>=0.5 in d:\\program files\\anaconda\\lib\\site-packages (from importlib-metadata!=4.7.0,<6,>=3.7.0->mlflow->pycaret) (3.7.0)\n",
      "Requirement already satisfied: greenlet!=0.4.17 in d:\\program files\\anaconda\\lib\\site-packages (from sqlalchemy<2,>=1.4.0->mlflow->pycaret) (1.1.1)\n",
      "Requirement already satisfied: pandocfilters>=1.4.1 in d:\\program files\\anaconda\\lib\\site-packages (from nbconvert->notebook>=4.4.1->widgetsnbextension~=3.5.0->ipywidgets->pycaret) (1.5.0)\n",
      "Requirement already satisfied: nbclient<0.6.0,>=0.5.0 in d:\\program files\\anaconda\\lib\\site-packages (from nbconvert->notebook>=4.4.1->widgetsnbextension~=3.5.0->ipywidgets->pycaret) (0.5.13)\n",
      "Requirement already satisfied: jupyterlab-pygments in d:\\program files\\anaconda\\lib\\site-packages (from nbconvert->notebook>=4.4.1->widgetsnbextension~=3.5.0->ipywidgets->pycaret) (0.1.2)\n",
      "Requirement already satisfied: defusedxml in d:\\program files\\anaconda\\lib\\site-packages (from nbconvert->notebook>=4.4.1->widgetsnbextension~=3.5.0->ipywidgets->pycaret) (0.7.1)\n",
      "Requirement already satisfied: mistune<2,>=0.8.1 in d:\\program files\\anaconda\\lib\\site-packages (from nbconvert->notebook>=4.4.1->widgetsnbextension~=3.5.0->ipywidgets->pycaret) (0.8.4)\n",
      "Requirement already satisfied: beautifulsoup4 in d:\\program files\\anaconda\\lib\\site-packages (from nbconvert->notebook>=4.4.1->widgetsnbextension~=3.5.0->ipywidgets->pycaret) (4.11.1)\n",
      "Requirement already satisfied: testpath in d:\\program files\\anaconda\\lib\\site-packages (from nbconvert->notebook>=4.4.1->widgetsnbextension~=3.5.0->ipywidgets->pycaret) (0.5.0)\n",
      "Requirement already satisfied: bleach in d:\\program files\\anaconda\\lib\\site-packages (from nbconvert->notebook>=4.4.1->widgetsnbextension~=3.5.0->ipywidgets->pycaret) (4.1.0)\n",
      "Requirement already satisfied: soupsieve>1.2 in d:\\program files\\anaconda\\lib\\site-packages (from beautifulsoup4->nbconvert->notebook>=4.4.1->widgetsnbextension~=3.5.0->ipywidgets->pycaret) (2.3.1)\n",
      "Requirement already satisfied: webencodings in d:\\program files\\anaconda\\lib\\site-packages (from bleach->nbconvert->notebook>=4.4.1->widgetsnbextension~=3.5.0->ipywidgets->pycaret) (0.5.1)\n",
      "Requirement already satisfied: regex>=2021.8.3 in d:\\program files\\anaconda\\lib\\site-packages (from nltk->pycaret) (2022.3.15)\n",
      "Requirement already satisfied: funcy in c:\\users\\keybi\\appdata\\roaming\\python\\python39\\site-packages (from pyLDAvis->pycaret) (1.17)\n",
      "Requirement already satisfied: numexpr in d:\\program files\\anaconda\\lib\\site-packages (from pyLDAvis->pycaret) (2.8.1)\n",
      "Requirement already satisfied: future in d:\\program files\\anaconda\\lib\\site-packages (from pyLDAvis->pycaret) (0.18.2)\n",
      "Requirement already satisfied: sklearn in c:\\users\\keybi\\appdata\\roaming\\python\\python39\\site-packages (from pyLDAvis->pycaret) (0.0)\n",
      "Requirement already satisfied: numba>=0.51 in d:\\program files\\anaconda\\lib\\site-packages (from pyod->pycaret) (0.55.1)\n",
      "Requirement already satisfied: llvmlite<0.39,>=0.38.0rc1 in d:\\program files\\anaconda\\lib\\site-packages (from numba>=0.51->pyod->pycaret) (0.38.0)\n",
      "Requirement already satisfied: langcodes<4.0.0,>=3.2.0 in c:\\users\\keybi\\appdata\\roaming\\python\\python39\\site-packages (from spacy->pycaret) (3.3.0)\n",
      "Requirement already satisfied: wasabi<1.1.0,>=0.9.1 in c:\\users\\keybi\\appdata\\roaming\\python\\python39\\site-packages (from spacy->pycaret) (0.10.1)\n",
      "Requirement already satisfied: spacy-legacy<3.1.0,>=3.0.10 in c:\\users\\keybi\\appdata\\roaming\\python\\python39\\site-packages (from spacy->pycaret) (3.0.10)\n",
      "Requirement already satisfied: murmurhash<1.1.0,>=0.28.0 in c:\\users\\keybi\\appdata\\roaming\\python\\python39\\site-packages (from spacy->pycaret) (1.0.9)\n",
      "Requirement already satisfied: pathy>=0.3.5 in c:\\users\\keybi\\appdata\\roaming\\python\\python39\\site-packages (from spacy->pycaret) (0.6.2)\n",
      "Requirement already satisfied: srsly<3.0.0,>=2.4.3 in c:\\users\\keybi\\appdata\\roaming\\python\\python39\\site-packages (from spacy->pycaret) (2.4.5)\n",
      "Requirement already satisfied: catalogue<2.1.0,>=2.0.6 in c:\\users\\keybi\\appdata\\roaming\\python\\python39\\site-packages (from spacy->pycaret) (2.0.8)\n",
      "Requirement already satisfied: cymem<2.1.0,>=2.0.2 in c:\\users\\keybi\\appdata\\roaming\\python\\python39\\site-packages (from spacy->pycaret) (2.0.7)\n",
      "Requirement already satisfied: preshed<3.1.0,>=3.0.2 in c:\\users\\keybi\\appdata\\roaming\\python\\python39\\site-packages (from spacy->pycaret) (3.0.8)\n",
      "Requirement already satisfied: typer<0.5.0,>=0.3.0 in c:\\users\\keybi\\appdata\\roaming\\python\\python39\\site-packages (from spacy->pycaret) (0.4.2)\n",
      "Requirement already satisfied: spacy-loggers<2.0.0,>=1.0.0 in c:\\users\\keybi\\appdata\\roaming\\python\\python39\\site-packages (from spacy->pycaret) (1.0.3)\n",
      "Requirement already satisfied: thinc<8.2.0,>=8.1.0 in c:\\users\\keybi\\appdata\\roaming\\python\\python39\\site-packages (from spacy->pycaret) (8.1.5)\n",
      "Requirement already satisfied: confection<1.0.0,>=0.0.1 in c:\\users\\keybi\\appdata\\roaming\\python\\python39\\site-packages (from thinc<8.2.0,>=8.1.0->spacy->pycaret) (0.0.3)\n",
      "Requirement already satisfied: blis<0.8.0,>=0.7.8 in c:\\users\\keybi\\appdata\\roaming\\python\\python39\\site-packages (from thinc<8.2.0,>=8.1.0->spacy->pycaret) (0.7.9)\n",
      "Requirement already satisfied: asttokens in d:\\program files\\anaconda\\lib\\site-packages (from stack-data->IPython->pycaret) (2.0.5)\n",
      "Requirement already satisfied: executing in d:\\program files\\anaconda\\lib\\site-packages (from stack-data->IPython->pycaret) (0.8.3)\n",
      "Requirement already satisfied: pure-eval in d:\\program files\\anaconda\\lib\\site-packages (from stack-data->IPython->pycaret) (0.2.2)\n",
      "Requirement already satisfied: pynndescent>=0.5 in c:\\users\\keybi\\appdata\\roaming\\python\\python39\\site-packages (from umap-learn->pycaret) (0.5.7)\n"
     ]
    }
   ],
   "source": [
    "%pip install pycaret"
   ]
  },
  {
   "cell_type": "code",
   "execution_count": 3,
   "id": "76558e04",
   "metadata": {},
   "outputs": [],
   "source": [
    "from pycaret.regression import setup, compare_models\n",
    "from pycaret.classification import *"
   ]
  },
  {
   "cell_type": "code",
   "execution_count": 4,
   "id": "699af203",
   "metadata": {},
   "outputs": [],
   "source": [
    "#увеличиваю отображение таблиц в ячейках вывода, чтобы показывало все данные\n",
    "pd.options.display.max_rows = 500\n",
    "pd.options.display.max_columns = 100"
   ]
  },
  {
   "cell_type": "code",
   "execution_count": 5,
   "id": "132f89b6",
   "metadata": {},
   "outputs": [],
   "source": [
    "train_data = pd.read_csv('D:/Документы/Python/ML/трен/house-prices-advanced-regression-techniques/train.csv' )\n",
    "test_data = pd.read_csv('D:/Документы/Python/ML/трен/house-prices-advanced-regression-techniques/test.csv')"
   ]
  },
  {
   "cell_type": "code",
   "execution_count": 6,
   "id": "a370225b",
   "metadata": {
    "scrolled": true
   },
   "outputs": [],
   "source": [
    "#train_data"
   ]
  },
  {
   "cell_type": "code",
   "execution_count": 7,
   "id": "6dc68c01",
   "metadata": {},
   "outputs": [
    {
     "data": {
      "text/plain": [
       "(1460, 81)"
      ]
     },
     "execution_count": 7,
     "metadata": {},
     "output_type": "execute_result"
    }
   ],
   "source": [
    "train_data.shape\n"
   ]
  },
  {
   "cell_type": "code",
   "execution_count": 8,
   "id": "4f9b2e1d",
   "metadata": {},
   "outputs": [
    {
     "data": {
      "text/plain": [
       "(1459, 80)"
      ]
     },
     "execution_count": 8,
     "metadata": {},
     "output_type": "execute_result"
    }
   ],
   "source": [
    "test_data.shape"
   ]
  },
  {
   "cell_type": "markdown",
   "id": "0cc3aca7",
   "metadata": {},
   "source": [
    "## Описание данных\n",
    "SalePrice - the property's sale price in dollars. This is the target variable that you're trying to predict.\n",
    "MSSubClass: The building class\n",
    "MSZoning: The general zoning classification\n",
    "LotFrontage: Linear feet of street connected to property\n",
    "LotArea: Lot size in square feet\n",
    "Street: Type of road access\n",
    "Alley: Type of alley access\n",
    "LotShape: General shape of property\n",
    "LandContour: Flatness of the property\n",
    "Utilities: Type of utilities available\n",
    "LotConfig: Lot configuration\n",
    "LandSlope: Slope of property\n",
    "Neighborhood: Physical locations within Ames city limits\n",
    "Condition1: Proximity to main road or railroad\n",
    "Condition2: Proximity to main road or railroad (if a second is present)\n",
    "BldgType: Type of dwelling\n",
    "HouseStyle: Style of dwelling\n",
    "OverallQual: Overall material and finish quality\n",
    "OverallCond: Overall condition rating\n",
    "YearBuilt: Original construction date\n",
    "YearRemodAdd: Remodel date\n",
    "RoofStyle: Type of roof\n",
    "RoofMatl: Roof material\n",
    "Exterior1st: Exterior covering on house\n",
    "Exterior2nd: Exterior covering on house (if more than one material)\n",
    "MasVnrType: Masonry veneer type\n",
    "MasVnrArea: Masonry veneer area in square feet\n",
    "ExterQual: Exterior material quality\n",
    "ExterCond: Present condition of the material on the exterior\n",
    "Foundation: Type of foundation\n",
    "BsmtQual: Height of the basement\n",
    "BsmtCond: General condition of the basement\n",
    "BsmtExposure: Walkout or garden level basement walls\n",
    "BsmtFinType1: Quality of basement finished area\n",
    "BsmtFinSF1: Type 1 finished square feet\n",
    "BsmtFinType2: Quality of second finished area (if present)\n",
    "BsmtFinSF2: Type 2 finished square feet\n",
    "BsmtUnfSF: Unfinished square feet of basement area\n",
    "TotalBsmtSF: Total square feet of basement area\n",
    "Heating: Type of heating\n",
    "HeatingQC: Heating quality and condition\n",
    "CentralAir: Central air conditioning\n",
    "Electrical: Electrical system\n",
    "1stFlrSF: First Floor square feet\n",
    "2ndFlrSF: Second floor square feet\n",
    "LowQualFinSF: Low quality finished square feet (all floors)\n",
    "GrLivArea: Above grade (ground) living area square feet\n",
    "BsmtFullBath: Basement full bathrooms\n",
    "BsmtHalfBath: Basement half bathrooms\n",
    "FullBath: Full bathrooms above grade\n",
    "HalfBath: Half baths above grade\n",
    "Bedroom: Number of bedrooms above basement level\n",
    "Kitchen: Number of kitchens\n",
    "KitchenQual: Kitchen quality\n",
    "TotRmsAbvGrd: Total rooms above grade (does not include bathrooms)\n",
    "Functional: Home functionality rating\n",
    "Fireplaces: Number of fireplaces\n",
    "FireplaceQu: Fireplace quality\n",
    "GarageType: Garage location\n",
    "GarageYrBlt: Year garage was built\n",
    "GarageFinish: Interior finish of the garage\n",
    "GarageCars: Size of garage in car capacity\n",
    "GarageArea: Size of garage in square feet\n",
    "GarageQual: Garage quality\n",
    "GarageCond: Garage condition\n",
    "PavedDrive: Paved driveway\n",
    "WoodDeckSF: Wood deck area in square feet\n",
    "OpenPorchSF: Open porch area in square feet\n",
    "EnclosedPorch: Enclosed porch area in square feet\n",
    "3SsnPorch: Three season porch area in square feet\n",
    "ScreenPorch: Screen porch area in square feet\n",
    "PoolArea: Pool area in square feet\n",
    "PoolQC: Pool quality\n",
    "Fence: Fence quality\n",
    "MiscFeature: Miscellaneous feature not covered in other categories\n",
    "MiscVal: $Value of miscellaneous feature\n",
    "MoSold: Month Sold\n",
    "YrSold: Year Sold\n",
    "SaleType: Type of sale\n",
    "SaleCondition: Condition of sale"
   ]
  },
  {
   "cell_type": "markdown",
   "id": "f31f4eca",
   "metadata": {
    "collapsed": true
   },
   "source": [
    "## Проверка и обработка"
   ]
  },
  {
   "cell_type": "code",
   "execution_count": 9,
   "id": "80b8c235",
   "metadata": {},
   "outputs": [
    {
     "data": {
      "text/plain": [
       "SalePrice        1.000000\n",
       "OverallQual      0.625652\n",
       "GrLivArea        0.502149\n",
       "GarageCars       0.410124\n",
       "GarageArea       0.388667\n",
       "TotalBsmtSF      0.376481\n",
       "1stFlrSF         0.367057\n",
       "FullBath         0.314344\n",
       "TotRmsAbvGrd     0.284860\n",
       "YearBuilt        0.273422\n",
       "YearRemodAdd     0.257151\n",
       "GarageYrBlt      0.236548\n",
       "MasVnrArea       0.228000\n",
       "Fireplaces       0.218023\n",
       "BsmtFinSF1       0.149320\n",
       "LotFrontage      0.123763\n",
       "WoodDeckSF       0.105244\n",
       "2ndFlrSF         0.101974\n",
       "OpenPorchSF      0.099765\n",
       "HalfBath         0.080717\n",
       "LotArea          0.069613\n",
       "BsmtFullBath     0.051585\n",
       "BsmtUnfSF        0.046001\n",
       "BedroomAbvGr     0.028296\n",
       "KitchenAbvGr     0.018471\n",
       "EnclosedPorch    0.016532\n",
       "ScreenPorch      0.012420\n",
       "PoolArea         0.008538\n",
       "MSSubClass       0.007104\n",
       "OverallCond      0.006062\n",
       "MoSold           0.002156\n",
       "3SsnPorch        0.001988\n",
       "YrSold           0.000837\n",
       "LowQualFinSF     0.000656\n",
       "Id               0.000480\n",
       "MiscVal          0.000449\n",
       "BsmtHalfBath     0.000284\n",
       "BsmtFinSF2       0.000129\n",
       "Name: SalePrice, dtype: float64"
      ]
     },
     "execution_count": 9,
     "metadata": {},
     "output_type": "execute_result"
    }
   ],
   "source": [
    "#выясню насколько корелируют данные(не зависимо от положительности или отрицательности влияний)\n",
    "(train_data.corr()**2)['SalePrice'].sort_values(ascending = False)\n",
    "#мультиколинеарность"
   ]
  },
  {
   "cell_type": "code",
   "execution_count": 10,
   "id": "86b1be63",
   "metadata": {},
   "outputs": [],
   "source": [
    "#функция постройки графиков\n",
    "def plotting_3_chart(df, feature):\n",
    "    import seaborn as sns \n",
    "    import matplotlib.pyplot as plt \n",
    "    import matplotlib.gridspec as gridspec \n",
    "    from scipy import stats\n",
    "    import matplotlib.style as style \n",
    "    style.use('fivethirtyeight')\n",
    "    \n",
    "    fig = plt.figure(constrained_layout=True, figsize=(12,8))\n",
    "    grid = gridspec.GridSpec(ncols=3, nrows=3, figure=fig)\n",
    "     \n",
    "    ax1 = fig.add_subplot(grid[0, :2])\n",
    "    ax1.set_title('Histogram')\n",
    "    #sns.distplot(df.loc[:,feature], norm_hist=True, ax = ax1)\n",
    "    sns.histplot(data=df,x = feature, kde=True)\n",
    "    \n",
    "    ax2 = fig.add_subplot(grid[1, :2])\n",
    "    ax2.set_title('QQ_plot')\n",
    "    stats.probplot(df.loc[:,feature], plot = ax2)\n",
    "\n",
    "    ax3 = fig.add_subplot(grid[:, 2])\n",
    "    ax3.set_title('Box Plot')\n",
    "    #sns.boxplot(df.loc[:,feature], orient='v', ax = ax3 );\n",
    "    sns.boxplot(x=df[feature])"
   ]
  },
  {
   "cell_type": "code",
   "execution_count": 11,
   "id": "5291fa74",
   "metadata": {},
   "outputs": [
    {
     "data": {
      "image/png": "[encoded data removed]",
      "text/plain": [
       "<Figure size 864x576 with 3 Axes>"
      ]
     },
     "metadata": {},
     "output_type": "display_data"
    }
   ],
   "source": [
    "#построю графики \n",
    "plotting_3_chart(train_data, 'SalePrice') \n",
    "#пузатый график и присутствуют выбросы, вернусь к этому позже"
   ]
  },
  {
   "cell_type": "code",
   "execution_count": 12,
   "id": "cb8f3f8a",
   "metadata": {
    "scrolled": true
   },
   "outputs": [],
   "source": [
    "#train_data.isna().sum() / train_data.shape[0]\n",
    "#выявляю долю пропущенных значений"
   ]
  },
  {
   "cell_type": "code",
   "execution_count": 56,
   "id": "9d9d0f84",
   "metadata": {},
   "outputs": [],
   "source": [
    "target = train_data['SalePrice']\n",
    "train_data2 = train_data.drop(['Id','SalePrice'], axis = 1) \n",
    "\n",
    "#удаляю целевую переменную и id"
   ]
  },
  {
   "cell_type": "code",
   "execution_count": 14,
   "id": "7d1911b6",
   "metadata": {},
   "outputs": [],
   "source": [
    "#train_data2.select_dtypes(np.number).isna().sum()\n",
    "#train_data2.select_dtypes('object').isna().sum()\n",
    "#смотрю типы данных для дальнейшего заполнения пропусков"
   ]
  },
  {
   "cell_type": "code",
   "execution_count": 57,
   "id": "344b58f0",
   "metadata": {},
   "outputs": [],
   "source": [
    "#test_data.isna().sum() / train_data.shape[0]\n",
    "test_data2 = test_data.drop(['Id'], axis = 1)\n",
    "test_ids = test_data['Id']\n",
    "#тоже самое"
   ]
  },
  {
   "cell_type": "code",
   "execution_count": 58,
   "id": "c16cac56",
   "metadata": {},
   "outputs": [],
   "source": [
    "#заполняю пропуски часто встречающимися значениями \n",
    "for column in [\n",
    "    'MSZoning',\n",
    "    'Utilities',\n",
    "    'Exterior1st',\n",
    "    'Exterior2nd',\n",
    "    'MasVnrType',\n",
    "    'Electrical',\n",
    "    'KitchenQual',\n",
    "    'Functional',\n",
    "    'SaleType'\n",
    "]:\n",
    "    train_data2[column] = train_data2[column].fillna(train_data2[column].mode()[0])\n",
    "    test_data2[column] = train_data2[column].fillna(train_data2[column].mode()[0])"
   ]
  },
  {
   "cell_type": "code",
   "execution_count": 59,
   "id": "1abf6ebc",
   "metadata": {},
   "outputs": [],
   "source": [
    "#тут данные не отсутствуют, а в значении - нет (по документации)\n",
    "for column in [\n",
    "    'Alley',\n",
    "    'BsmtQual',\n",
    "    'BsmtCond',\n",
    "    'BsmtExposure',\n",
    "    'BsmtFinType1',\n",
    "    'BsmtFinType2',\n",
    "    'FireplaceQu',\n",
    "    'GarageType',\n",
    "    'GarageFinish',\n",
    "    'GarageQual',\n",
    "    'GarageCond',\n",
    "    'PoolQC',\n",
    "    'Fence',\n",
    "    'MiscFeature'\n",
    "]:\n",
    "    train_data2[column] = train_data2[column].fillna(\"None\")\n",
    "    test_data2[column] = test_data2[column].fillna(\"None\")"
   ]
  },
  {
   "cell_type": "code",
   "execution_count": 60,
   "id": "8a3605f6",
   "metadata": {},
   "outputs": [],
   "source": [
    "#функция заполнения для числовых значений, по принципу интерполяции к ближайшим \n",
    "def knn_impute(df, na_target):\n",
    "    df = df.copy()\n",
    "    \n",
    "    numeric_df = df.select_dtypes(np.number)\n",
    "    non_na_columns = numeric_df.loc[: ,numeric_df.isna().sum() == 0].columns\n",
    "    \n",
    "    y_train = numeric_df.loc[numeric_df[na_target].isna() == False, na_target]\n",
    "    X_train = numeric_df.loc[numeric_df[na_target].isna() == False, non_na_columns]\n",
    "    X_test = numeric_df.loc[numeric_df[na_target].isna() == True, non_na_columns]\n",
    "    \n",
    "    knn = KNeighborsRegressor()\n",
    "    knn.fit(X_train, y_train)\n",
    "    \n",
    "    y_pred = knn.predict(X_test)\n",
    "    \n",
    "    df.loc[df[na_target].isna() == True, na_target] = y_pred\n",
    "    \n",
    "    return df"
   ]
  },
  {
   "cell_type": "code",
   "execution_count": 61,
   "id": "95192b14",
   "metadata": {},
   "outputs": [],
   "source": [
    "#train_data2.isna().sum() / train_data2.shape[0] \n",
    "#train_data2.select_dtypes(np.number).isna().sum()"
   ]
  },
  {
   "cell_type": "code",
   "execution_count": 62,
   "id": "dca5f511",
   "metadata": {},
   "outputs": [],
   "source": [
    "for column in [\n",
    "    'LotFrontage',\n",
    "    'MasVnrArea',\n",
    "    'GarageYrBlt'\n",
    "]:\n",
    "    train_data2 = knn_impute(train_data2, column)\n"
   ]
  },
  {
   "cell_type": "code",
   "execution_count": 63,
   "id": "42087602",
   "metadata": {},
   "outputs": [],
   "source": [
    "for column in [\n",
    "    'LotFrontage',\n",
    "    'MasVnrArea',\n",
    "    'BsmtFinSF1',\n",
    "    'BsmtFinSF2',\n",
    "    'BsmtUnfSF',\n",
    "    'TotalBsmtSF',\n",
    "    'BsmtFullBath',\n",
    "    'BsmtHalfBath',\n",
    "    'GarageYrBlt',\n",
    "    'GarageCars',\n",
    "    'GarageArea'\n",
    "]:\n",
    "    test_data2 = knn_impute(test_data2, column)"
   ]
  },
  {
   "cell_type": "code",
   "execution_count": 22,
   "id": "92b8704f",
   "metadata": {},
   "outputs": [],
   "source": [
    "#test_data2.isna().sum() / test_data2.shape[0] \n",
    "#train_data2.isna().sum() / train_data2.shape[0] \n",
    "#проверяю все ли заполнено"
   ]
  },
  {
   "cell_type": "code",
   "execution_count": 64,
   "id": "a8609ba8",
   "metadata": {},
   "outputs": [
    {
     "data": {
      "text/plain": [
       "(1460, 79)"
      ]
     },
     "execution_count": 64,
     "metadata": {},
     "output_type": "execute_result"
    }
   ],
   "source": [
    "#проверка на потерянные значения\n",
    "train_data2.shape"
   ]
  },
  {
   "cell_type": "code",
   "execution_count": 65,
   "id": "8677f330",
   "metadata": {},
   "outputs": [
    {
     "data": {
      "text/plain": [
       "(1459, 79)"
      ]
     },
     "execution_count": 65,
     "metadata": {},
     "output_type": "execute_result"
    }
   ],
   "source": [
    "test_data2.shape"
   ]
  },
  {
   "cell_type": "code",
   "execution_count": 25,
   "id": "67da90bc",
   "metadata": {},
   "outputs": [],
   "source": [
    "#возвращаюсь к графикам и анализу перекосов\n",
    "#plotting_3_chart(train_data2, 'LotFrontage') "
   ]
  },
  {
   "cell_type": "code",
   "execution_count": 66,
   "id": "29fc2232",
   "metadata": {},
   "outputs": [
    {
     "data": {
      "text/plain": [
       "(2919, 79)"
      ]
     },
     "execution_count": 66,
     "metadata": {},
     "output_type": "execute_result"
    }
   ],
   "source": [
    "#объединю чтобы ничего не потерять при дальнейших процессах\n",
    "train_test_data2 = pd.concat([train_data2, test_data2], axis=0).reset_index(drop=True)\n",
    "train_test_data2.shape"
   ]
  },
  {
   "cell_type": "code",
   "execution_count": 67,
   "id": "f8495bb2",
   "metadata": {},
   "outputs": [],
   "source": [
    "#вывожу искаженные столбцы и проверяю те которые нужно поправить(>=0,5)\n",
    "skew_df = pd.DataFrame(train_test_data2.select_dtypes(np.number).columns, columns=['Feature'])\n",
    "skew_df['Skew'] = skew_df['Feature'].apply(lambda feature: scipy.stats.skew(train_test_data2[feature]))\n",
    "skew_df['Absolute Skew'] = skew_df['Skew'].apply(abs)\n",
    "skew_df['Skewed'] = skew_df['Absolute Skew'].apply(lambda x: True if x >= 0.5 else False)\n",
    "#skew_df"
   ]
  },
  {
   "cell_type": "code",
   "execution_count": 68,
   "id": "ca442c2e",
   "metadata": {},
   "outputs": [],
   "source": [
    "#преобразую искревленные значения\n",
    "for column in skew_df.query(\"Skewed == True\")['Feature'].values:\n",
    "    train_test_data2[column] = np.log1p(train_test_data2[column])\n"
   ]
  },
  {
   "cell_type": "code",
   "execution_count": 69,
   "id": "cae2d3a6",
   "metadata": {},
   "outputs": [],
   "source": [
    "#преобразую цикличискую фичу времени года, так чтобы январь и декабрь был на одном уровне, а июнь был вверху\n",
    "#что будет помогать программе понимать, что связано с данными цифрами(температура в зависимости от времени года)\n",
    "#хотя для данного датасета может это не так важно, тк иследование проводилось в теплом климате \n",
    "train_test_data2['MoSold'] = (-np.cos(0.5236 * train_data2['MoSold']))"
   ]
  },
  {
   "cell_type": "code",
   "execution_count": 70,
   "id": "a5a07f0f",
   "metadata": {},
   "outputs": [],
   "source": [
    "train_test_data2[\"SqFtPerRoom\"] = train_test_data2[\"GrLivArea\"] / (train_test_data2[\"TotRmsAbvGrd\"] + train_test_data2[\"FullBath\"] + train_test_data2[\"HalfBath\"] + train_test_data2[\"KitchenAbvGr\"])\n",
    "train_test_data2['Total_Home_Quality'] = train_test_data2['OverallQual'] + train_test_data2['OverallCond']\n",
    "train_test_data2['Total_Bathrooms'] = train_test_data2['FullBath'] + 0.5 * train_test_data2['HalfBath'] + train_test_data2['BsmtFullBath'] + 0.5 * train_test_data2['BsmtHalfBath']\n",
    "train_test_data2[\"HighQualSF\"] = train_test_data2[\"1stFlrSF\"] +train_test_data2[\"2ndFlrSF\"]"
   ]
  },
  {
   "cell_type": "code",
   "execution_count": 71,
   "id": "0ac7db27",
   "metadata": {},
   "outputs": [
    {
     "data": {
      "text/plain": [
       "(2919, 83)"
      ]
     },
     "execution_count": 71,
     "metadata": {},
     "output_type": "execute_result"
    }
   ],
   "source": [
    "train_test_data2.shape"
   ]
  },
  {
   "cell_type": "markdown",
   "id": "1b5d0885",
   "metadata": {},
   "source": [
    "## Кодирование строковых и категориальных данных\n"
   ]
  },
  {
   "cell_type": "code",
   "execution_count": 72,
   "id": "90ecc082",
   "metadata": {},
   "outputs": [
    {
     "data": {
      "text/plain": [
       "(2919, 306)"
      ]
     },
     "execution_count": 72,
     "metadata": {},
     "output_type": "execute_result"
    }
   ],
   "source": [
    "train_data3 = pd.get_dummies(train_test_data2)\n",
    "train_data3.shape"
   ]
  },
  {
   "cell_type": "markdown",
   "id": "cb269dc7",
   "metadata": {},
   "source": [
    "## Масштабирование фич (нормализация данных)"
   ]
  },
  {
   "cell_type": "code",
   "execution_count": 74,
   "id": "6560af91",
   "metadata": {},
   "outputs": [],
   "source": [
    "scaler = StandardScaler()\n",
    "scaler.fit(train_data3)\n",
    "\n",
    "train_data3 = pd.DataFrame(scaler.transform(train_data3), index=train_data3.index, columns=train_data3.columns)"
   ]
  },
  {
   "cell_type": "code",
   "execution_count": 38,
   "id": "af06f446",
   "metadata": {},
   "outputs": [],
   "source": [
    "#test_data3"
   ]
  },
  {
   "cell_type": "markdown",
   "id": "e9a77d75",
   "metadata": {},
   "source": [
    "## Трансформация целевой переменной"
   ]
  },
  {
   "cell_type": "code",
   "execution_count": 75,
   "id": "421f99d3",
   "metadata": {},
   "outputs": [
    {
     "data": {
      "image/png": "[encoded data removed]",
      "text/plain": [
       "<Figure size 1440x720 with 2 Axes>"
      ]
     },
     "metadata": {},
     "output_type": "display_data"
    }
   ],
   "source": [
    "#визуализация того как повлияет трансформация(станет лучше)\n",
    "plt.figure(figsize=(20, 10))\n",
    "\n",
    "plt.subplot(1, 2, 1)\n",
    "sns.distplot(target, kde=True, fit=scipy.stats.norm)\n",
    "plt.title(\"Without Log Transform\")\n",
    "\n",
    "plt.subplot(1, 2, 2)\n",
    "sns.distplot(np.log(target), kde=True, fit=scipy.stats.norm)\n",
    "plt.xlabel(\"Log SalePrice\")\n",
    "plt.title(\"With Log Transform\")\n",
    "\n",
    "plt.show()"
   ]
  },
  {
   "cell_type": "code",
   "execution_count": 76,
   "id": "8f38b102",
   "metadata": {},
   "outputs": [],
   "source": [
    "log_target = np.log(target)"
   ]
  },
  {
   "cell_type": "markdown",
   "id": "46b3de4c",
   "metadata": {},
   "source": [
    "## Модель"
   ]
  },
  {
   "cell_type": "code",
   "execution_count": 85,
   "id": "b5a4f182",
   "metadata": {},
   "outputs": [],
   "source": [
    "train_final = train_data3.loc[:train_data.index.max(), :].copy()\n",
    "test_final = train_data3.loc[train_data.index.max() + 1:, :].reset_index(drop=True).copy()\n"
   ]
  },
  {
   "cell_type": "code",
   "execution_count": 86,
   "id": "9890b769",
   "metadata": {},
   "outputs": [
    {
     "data": {
      "text/plain": [
       "(1459, 306)"
      ]
     },
     "execution_count": 86,
     "metadata": {},
     "output_type": "execute_result"
    }
   ],
   "source": [
    "#Ничего не потерялось и правильно разделилось\n",
    "#train_final.shape\n",
    "test_final.shape"
   ]
  },
  {
   "cell_type": "code",
   "execution_count": 81,
   "id": "a9d425c8",
   "metadata": {},
   "outputs": [],
   "source": [
    "baseline_model = CatBoostRegressor(verbose = 0)"
   ]
  },
  {
   "cell_type": "code",
   "execution_count": 82,
   "id": "6360a1bb",
   "metadata": {},
   "outputs": [
    {
     "data": {
      "text/plain": [
       "<catboost.core.CatBoostRegressor at 0x20461f84160>"
      ]
     },
     "execution_count": 82,
     "metadata": {},
     "output_type": "execute_result"
    }
   ],
   "source": [
    "baseline_model.fit(train_final, log_target)"
   ]
  },
  {
   "cell_type": "code",
   "execution_count": 83,
   "id": "3151d414",
   "metadata": {},
   "outputs": [
    {
     "data": {
      "text/plain": [
       "array([-0.01324804, -0.00836343, -0.01042717, -0.02357506, -0.02053889,\n",
       "       -0.01107006, -0.01396243, -0.00939808, -0.01528056, -0.01717739])"
      ]
     },
     "execution_count": 83,
     "metadata": {},
     "output_type": "execute_result"
    }
   ],
   "source": [
    "kf = KFold(n_splits=10)\n",
    "results = cross_val_score(baseline_model,train_final, log_target, scoring = 'neg_mean_squared_error', cv=kf)\n",
    "results"
   ]
  },
  {
   "cell_type": "code",
   "execution_count": 87,
   "id": "bad69d94",
   "metadata": {},
   "outputs": [],
   "source": [
    "final_predictions = np.exp(baseline_model.predict(test_final))"
   ]
  },
  {
   "cell_type": "code",
   "execution_count": 88,
   "id": "7505f5e4",
   "metadata": {},
   "outputs": [
    {
     "data": {
      "text/html": [
       "<div>\n",
       "<style scoped>\n",
       "    .dataframe tbody tr th:only-of-type {\n",
       "        vertical-align: middle;\n",
       "    }\n",
       "\n",
       "    .dataframe tbody tr th {\n",
       "        vertical-align: top;\n",
       "    }\n",
       "\n",
       "    .dataframe thead th {\n",
       "        text-align: right;\n",
       "    }\n",
       "</style>\n",
       "<table border=\"1\" class=\"dataframe\">\n",
       "  <thead>\n",
       "    <tr style=\"text-align: right;\">\n",
       "      <th></th>\n",
       "      <th>Id</th>\n",
       "      <th>SalePrice</th>\n",
       "    </tr>\n",
       "  </thead>\n",
       "  <tbody>\n",
       "    <tr>\n",
       "      <th>0</th>\n",
       "      <td>1461</td>\n",
       "      <td>124376.167033</td>\n",
       "    </tr>\n",
       "    <tr>\n",
       "      <th>1</th>\n",
       "      <td>1462</td>\n",
       "      <td>156972.385552</td>\n",
       "    </tr>\n",
       "    <tr>\n",
       "      <th>2</th>\n",
       "      <td>1463</td>\n",
       "      <td>192264.783395</td>\n",
       "    </tr>\n",
       "    <tr>\n",
       "      <th>3</th>\n",
       "      <td>1464</td>\n",
       "      <td>194731.829377</td>\n",
       "    </tr>\n",
       "    <tr>\n",
       "      <th>4</th>\n",
       "      <td>1465</td>\n",
       "      <td>186338.475246</td>\n",
       "    </tr>\n",
       "    <tr>\n",
       "      <th>...</th>\n",
       "      <td>...</td>\n",
       "      <td>...</td>\n",
       "    </tr>\n",
       "    <tr>\n",
       "      <th>1454</th>\n",
       "      <td>2915</td>\n",
       "      <td>89860.878177</td>\n",
       "    </tr>\n",
       "    <tr>\n",
       "      <th>1455</th>\n",
       "      <td>2916</td>\n",
       "      <td>85379.084101</td>\n",
       "    </tr>\n",
       "    <tr>\n",
       "      <th>1456</th>\n",
       "      <td>2917</td>\n",
       "      <td>158431.426435</td>\n",
       "    </tr>\n",
       "    <tr>\n",
       "      <th>1457</th>\n",
       "      <td>2918</td>\n",
       "      <td>117540.576089</td>\n",
       "    </tr>\n",
       "    <tr>\n",
       "      <th>1458</th>\n",
       "      <td>2919</td>\n",
       "      <td>232319.016315</td>\n",
       "    </tr>\n",
       "  </tbody>\n",
       "</table>\n",
       "<p>1459 rows × 2 columns</p>\n",
       "</div>"
      ],
      "text/plain": [
       "        Id      SalePrice\n",
       "0     1461  124376.167033\n",
       "1     1462  156972.385552\n",
       "2     1463  192264.783395\n",
       "3     1464  194731.829377\n",
       "4     1465  186338.475246\n",
       "...    ...            ...\n",
       "1454  2915   89860.878177\n",
       "1455  2916   85379.084101\n",
       "1456  2917  158431.426435\n",
       "1457  2918  117540.576089\n",
       "1458  2919  232319.016315\n",
       "\n",
       "[1459 rows x 2 columns]"
      ]
     },
     "execution_count": 88,
     "metadata": {},
     "output_type": "execute_result"
    }
   ],
   "source": [
    "submission = pd.concat([test_ids, pd.Series(predictions, name='SalePrice')], axis=1)\n",
    "submission"
   ]
  },
  {
   "cell_type": "code",
   "execution_count": 89,
   "id": "f60c4355",
   "metadata": {},
   "outputs": [],
   "source": [
    "submission.to_csv('D:/Документы/Python/ML/трен/house-prices-advanced-regression-techniques/submission.csv', index=False, header=True)"
   ]
  },
  {
   "cell_type": "code",
   "execution_count": null,
   "id": "4a81f569",
   "metadata": {},
   "outputs": [],
   "source": []
  }
 ],
 "metadata": {
  "kernelspec": {
   "display_name": "Python 3 (ipykernel)",
   "language": "python",
   "name": "python3"
  },
  "language_info": {
   "codemirror_mode": {
    "name": "ipython",
    "version": 3
   },
   "file_extension": ".py",
   "mimetype": "text/x-python",
   "name": "python",
   "nbconvert_exporter": "python",
   "pygments_lexer": "ipython3",
   "version": "3.9.12"
  }
 },
 "nbformat": 4,
 "nbformat_minor": 5
}
